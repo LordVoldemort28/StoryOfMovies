{
 "cells": [
  {
   "cell_type": "code",
   "execution_count": 1,
   "metadata": {},
   "outputs": [],
   "source": [
    "import matplotlib.pyplot as plt\n",
    "import pandas as pd\n",
    "import os\n",
    "import json\n",
    "import nltk\n",
    "import ast"
   ]
  },
  {
   "cell_type": "markdown",
   "metadata": {},
   "source": [
    "SAVE SCRIPTS IN JSON\n",
    "----------------------"
   ]
  },
  {
   "cell_type": "code",
   "execution_count": 3,
   "metadata": {},
   "outputs": [
    {
     "name": "stdout",
     "output_type": "stream",
     "text": [
      "credits.csv            movies_metadata.csv    the-movies-dataset.zip\r\n",
      "keywords.csv           ratings.csv            typescript\r\n",
      "links.csv              ratings_small.csv\r\n",
      "links_small.csv        \u001b[1m\u001b[36mscripts\u001b[m\u001b[m\r\n"
     ]
    }
   ],
   "source": [
    "!ls dataset"
   ]
  },
  {
   "cell_type": "code",
   "execution_count": 30,
   "metadata": {},
   "outputs": [],
   "source": [
    "#Save all script\n",
    "script_path = 'dataset/scripts/all_script'\n",
    "script_list = os.listdir(script_path)\n",
    "\n",
    "scripts = {}\n",
    "\n",
    "#Read each script and store as json\n",
    "for script in script_list:\n",
    "    #print(os.path.join(script_path, script))\n",
    "    if script != '.DS_Store':\n",
    "        with open(os.path.join(script_path, script), 'r') as file:    \n",
    "            scripts[script.replace('.txt', '')] = file.read()\n",
    "            \n",
    "#storing in json file\n",
    "with open('scripts.json', 'w') as json_file:\n",
    "    json.dump(scripts, json_file)"
   ]
  },
  {
   "cell_type": "markdown",
   "metadata": {},
   "source": [
    "LOAD CSV DATA\n",
    "-------------------\n",
    "Credits, Links, Ratings, Keywords, Metadata, Ratings and Links"
   ]
  },
  {
   "cell_type": "code",
   "execution_count": 144,
   "metadata": {},
   "outputs": [
    {
     "name": "stderr",
     "output_type": "stream",
     "text": [
      "/usr/local/lib/python3.7/site-packages/IPython/core/interactiveshell.py:3020: DtypeWarning: Columns (10) have mixed types. Specify dtype option on import or set low_memory=False.\n",
      "  interactivity=interactivity, compiler=compiler, result=result)\n"
     ]
    }
   ],
   "source": [
    "#Load data\n",
    "credits = pd.read_csv('dataset/credits.csv')\n",
    "links_small = pd.read_csv('dataset/links_small.csv')\n",
    "ratings_small = pd.read_csv('dataset/ratings_small.csv')\n",
    "keywords = pd.read_csv('dataset/keywords.csv')\n",
    "movies_metadata = pd.read_csv('dataset/movies_metadata.csv')\n",
    "ratings = pd.read_csv('dataset/ratings.csv')\n",
    "links = pd.read_csv('dataset/links.csv')"
   ]
  },
  {
   "cell_type": "code",
   "execution_count": 3,
   "metadata": {},
   "outputs": [],
   "source": [
    "#Load scripts\n",
    "with open('scripts.json', 'r') as json_file:\n",
    "    scripts = json.load(json_file)"
   ]
  },
  {
   "cell_type": "code",
   "execution_count": 14,
   "metadata": {},
   "outputs": [],
   "source": [
    "eachWord = scripts['Deep-Rising'].split()\n",
    "    "
   ]
  },
  {
   "cell_type": "code",
   "execution_count": 36,
   "metadata": {},
   "outputs": [
    {
     "name": "stdout",
     "output_type": "stream",
     "text": [
      "['__add__', '__class__', '__contains__', '__delattr__', '__delitem__', '__dir__', '__doc__', '__eq__', '__format__', '__ge__', '__getattribute__', '__getitem__', '__gt__', '__hash__', '__iadd__', '__imul__', '__init__', '__init_subclass__', '__iter__', '__le__', '__len__', '__lt__', '__mul__', '__ne__', '__new__', '__reduce__', '__reduce_ex__', '__repr__', '__reversed__', '__rmul__', '__setattr__', '__setitem__', '__sizeof__', '__str__', '__subclasshook__', 'append', 'clear', 'copy', 'count', 'extend', 'index', 'insert', 'pop', 'remove', 'reverse', 'sort']\n"
     ]
    }
   ],
   "source": [
    "tokens = nltk.word_tokenize(scripts['Deep-Rising'])\n",
    "\n",
    "tokens = list(dict.fromkeys(tokens))\n",
    "tokens.sort()"
   ]
  },
  {
   "cell_type": "markdown",
   "metadata": {},
   "source": [
    "GET MOVIES WITH ACTOR\n",
    "-----------------------"
   ]
  },
  {
   "cell_type": "code",
   "execution_count": 133,
   "metadata": {},
   "outputs": [],
   "source": [
    "Actor = 'Tom Hanks'\n",
    "\n",
    "cast = credits.cast[0]\n",
    "\n",
    "#Remove single quotes list and convert list into string\n",
    "cast = ast.literal_eval(cast)\n",
    "cast = json.dumps(cast)\n",
    "\n",
    "#loading json\n",
    "cast = pd.read_json(cast)"
   ]
  },
  {
   "cell_type": "code",
   "execution_count": 154,
   "metadata": {},
   "outputs": [
    {
     "name": "stdout",
     "output_type": "stream",
     "text": [
      "adult                                                                False\n",
      "belongs_to_collection    {'id': 10194, 'name': 'Toy Story Collection', ...\n",
      "budget                                                            30000000\n",
      "genres                   [{'id': 16, 'name': 'Animation'}, {'id': 35, '...\n",
      "homepage                              http://toystory.disney.com/toy-story\n",
      "id                                                                     862\n",
      "imdb_id                                                          tt0114709\n",
      "original_language                                                       en\n",
      "original_title                                                   Toy Story\n",
      "overview                 Led by Woody, Andy's toys live happily in his ...\n",
      "popularity                                                         21.9469\n",
      "poster_path                               /rhIRbceoE9lR4veEXuwCC2wARtG.jpg\n",
      "production_companies        [{'name': 'Pixar Animation Studios', 'id': 3}]\n",
      "production_countries     [{'iso_3166_1': 'US', 'name': 'United States o...\n",
      "release_date                                                    1995-10-30\n",
      "revenue                                                        3.73554e+08\n",
      "runtime                                                                 81\n",
      "spoken_languages                  [{'iso_639_1': 'en', 'name': 'English'}]\n",
      "status                                                            Released\n",
      "tagline                                                                NaN\n",
      "title                                                            Toy Story\n",
      "video                                                                False\n",
      "vote_average                                                           7.7\n",
      "vote_count                                                            5415\n",
      "Name: 0, dtype: object\n"
     ]
    }
   ],
   "source": [
    "print(movies_metadata.loc[0])\n"
   ]
  },
  {
   "cell_type": "code",
   "execution_count": null,
   "metadata": {},
   "outputs": [],
   "source": []
  },
  {
   "cell_type": "code",
   "execution_count": 126,
   "metadata": {},
   "outputs": [],
   "source": [
    "#cast = json.loads(cast)"
   ]
  },
  {
   "cell_type": "code",
   "execution_count": 135,
   "metadata": {},
   "outputs": [
    {
     "name": "stdout",
     "output_type": "stream",
     "text": [
      "    cast_id                character                 credit_id  gender  \\\n",
      "0        14            Woody (voice)  52fe4284c3a36847f8024f95       2   \n",
      "1        15   Buzz Lightyear (voice)  52fe4284c3a36847f8024f99       2   \n",
      "2        16  Mr. Potato Head (voice)  52fe4284c3a36847f8024f9d       2   \n",
      "3        17       Slinky Dog (voice)  52fe4284c3a36847f8024fa1       2   \n",
      "4        18              Rex (voice)  52fe4284c3a36847f8024fa5       2   \n",
      "5        19             Hamm (voice)  52fe4284c3a36847f8024fa9       2   \n",
      "6        20          Bo Peep (voice)  52fe4284c3a36847f8024fad       1   \n",
      "7        26             Andy (voice)  52fe4284c3a36847f8024fc1       0   \n",
      "8        22              Sid (voice)  52fe4284c3a36847f8024fb1       2   \n",
      "9        23       Mrs. Davis (voice)  52fe4284c3a36847f8024fb5       1   \n",
      "10       24         Sergeant (voice)  52fe4284c3a36847f8024fb9       2   \n",
      "11       25           Hannah (voice)  52fe4284c3a36847f8024fbd       1   \n",
      "12       27     TV Announcer (voice)  52fe4284c3a36847f8024fc5       2   \n",
      "\n",
      "         id               name  order                      profile_path  \n",
      "0        31          Tom Hanks      0  /pQFoyx7rp09CJTAb932F2g8Nlho.jpg  \n",
      "1     12898          Tim Allen      1  /uX2xVf6pMmPepxnvFWyBtjexzgY.jpg  \n",
      "2      7167        Don Rickles      2  /h5BcaDMPRVLHLDzbQavec4xfSdt.jpg  \n",
      "3     12899         Jim Varney      3  /eIo2jVVXYgjDtaHoF19Ll9vtW7h.jpg  \n",
      "4     12900      Wallace Shawn      4  /oGE6JqPP2xH4tNORKNqxbNPYi7u.jpg  \n",
      "5      7907  John Ratzenberger      5  /yGechiKWL6TJDfVE2KPSJYqdMsY.jpg  \n",
      "6      8873        Annie Potts      6  /eryXT84RL41jHSJcMy4kS3u9y6w.jpg  \n",
      "7   1116442        John Morris      7  /vYGyvK4LzeaUCoNSHtsuqJUY15M.jpg  \n",
      "8     12901    Erik von Detten      8  /twnF1ZaJ1FUNUuo6xLXwcxjayBE.jpg  \n",
      "9     12133     Laurie Metcalf      9  /unMMIT60eoBM2sN2nyR7EZ2BvvD.jpg  \n",
      "10     8655       R. Lee Ermey     10  /r8GBqFBjypLUP9VVqDqfZ7wYbSs.jpg  \n",
      "11    12903      Sarah Freeman     11                              None  \n",
      "12    37221      Penn Jillette     12  /zmAaXUdx12NRsssgHbk1T31j2x9.jpg  \n"
     ]
    }
   ],
   "source": [
    "# for eachCast in cast:\n",
    "#     print(eachCast['cast_id'])\n",
    "print(cast)"
   ]
  },
  {
   "cell_type": "code",
   "execution_count": null,
   "metadata": {},
   "outputs": [],
   "source": []
  },
  {
   "cell_type": "code",
   "execution_count": null,
   "metadata": {},
   "outputs": [],
   "source": []
  }
 ],
 "metadata": {
  "kernelspec": {
   "display_name": "Python 3",
   "language": "python",
   "name": "python3"
  },
  "language_info": {
   "codemirror_mode": {
    "name": "ipython",
    "version": 3
   },
   "file_extension": ".py",
   "mimetype": "text/x-python",
   "name": "python",
   "nbconvert_exporter": "python",
   "pygments_lexer": "ipython3",
   "version": "3.7.2"
  }
 },
 "nbformat": 4,
 "nbformat_minor": 2
}
